{
 "cells": [
  {
   "cell_type": "markdown",
   "metadata": {},
   "source": [
    "#### Problem Statement:"
   ]
  },
  {
   "cell_type": "markdown",
   "metadata": {},
   "source": [
    "### **Predicting High-Profit Sales Transactions Using Machine Learning**"
   ]
  },
  {
   "cell_type": "markdown",
   "metadata": {},
   "source": [
    "---"
   ]
  },
  {
   "cell_type": "markdown",
   "metadata": {},
   "source": [
    "#### Objective \n",
    "***\n",
    "The goal of this project is to develop a machine learning model that can predict whether a sales transaction will yield a high profit (defined as a profit greater than $10,000). This predictive model will help the business prioritize and strategize its sales efforts to maximize profitability"
   ]
  },
  {
   "cell_type": "markdown",
   "metadata": {},
   "source": [
    "#### Data Description\n",
    "***\n",
    "The dataset contains 500,000 sales records with the following attributes:\n",
    "\n",
    "- Region: The geographical region where the sale was made.\n",
    "- Country: The country where the sale was made.\n",
    "- Item Type: The type of item sold (e.g., Fruits, Clothes, Meat, etc.).\n",
    "- Sales Channel: The sales channel used (Online or Offline).\n",
    "- Order Priority: The priority of the order (High, Medium, Low, Critical).\n",
    "- Order Date: The date when the order was placed.\n",
    "- Order ID: A unique identifier for the order.\n",
    "- Ship Date: The date when the order was shipped.\n",
    "- Units Sold: The number of units sold.\n",
    "- Unit Price: The price per unit.\n",
    "- Unit Cost: The cost per unit.\n",
    "- Total Revenue: The total revenue from the sale.\n",
    "- Total Cost: The total cost of the sale.\n",
    "- Total Profit: The total profit from the sale"
   ]
  },
  {
   "cell_type": "markdown",
   "metadata": {},
   "source": []
  }
 ],
 "metadata": {
  "language_info": {
   "name": "python"
  }
 },
 "nbformat": 4,
 "nbformat_minor": 2
}
